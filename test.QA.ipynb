{
  "nbformat": 4,
  "nbformat_minor": 0,
  "metadata": {
    "colab": {
      "provenance": [],
      "toc_visible": true,
      "gpuType": "T4",
      "authorship_tag": "ABX9TyPHAFbF1oWS7QKJDaplb3sk",
      "include_colab_link": true
    },
    "kernelspec": {
      "name": "python3",
      "display_name": "Python 3"
    },
    "language_info": {
      "name": "python"
    },
    "accelerator": "GPU"
  },
  "cells": [
    {
      "cell_type": "markdown",
      "metadata": {
        "id": "view-in-github",
        "colab_type": "text"
      },
      "source": [
        "<a href=\"https://colab.research.google.com/github/iobio-zjut/GraphCPLMQA/blob/main/test.QA.ipynb\" target=\"_parent\"><img src=\"https://colab.research.google.com/assets/colab-badge.svg\" alt=\"Open In Colab\"/></a>"
      ]
    },
    {
      "cell_type": "code",
      "source": [
        "%%bash\n",
        "git clone https://github.com/iobio-zjut/GraphCPLMQA.git"
      ],
      "metadata": {
        "id": "LHUqV1me8Gqa"
      },
      "execution_count": null,
      "outputs": []
    },
    {
      "cell_type": "code",
      "source": [
        "!~/miniconda3/bin/conda init bash\n",
        "!~/miniconda3/bin/conda init zsh"
      ],
      "metadata": {
        "id": "PnRNzEuM87j_"
      },
      "execution_count": null,
      "outputs": []
    },
    {
      "cell_type": "code",
      "source": [
        "%%bash\n",
        "MINICONDA_INSTALLER_SCRIPT=Miniconda3-latest-Linux-x86_64.sh\n",
        "MINICONDA_PREFIX=/usr/local\n",
        "wget https://repo.continuum.io/miniconda/$MINICONDA_INSTALLER_SCRIPT\n",
        "chmod +x $MINICONDA_INSTALLER_SCRIPT\n",
        "./$MINICONDA_INSTALLER_SCRIPT -b -f -p $MINICONDA_PREFIX"
      ],
      "metadata": {
        "id": "1NXYEsxn9L9J"
      },
      "execution_count": null,
      "outputs": []
    },
    {
      "cell_type": "code",
      "source": [
        "from google.colab import drive\n",
        "drive.mount('/content/drive')"
      ],
      "metadata": {
        "id": "kHXIVuLhPiFF"
      },
      "execution_count": null,
      "outputs": []
    },
    {
      "cell_type": "code",
      "source": [
        "!conda env create -f GraphCPLMQA/environment.yml\n",
        "# If some packages fail to install, please install them separately in the environment"
      ],
      "metadata": {
        "id": "uq_iHS_X-ids"
      },
      "execution_count": null,
      "outputs": []
    },
    {
      "cell_type": "code",
      "source": [
        "%%bash\n",
        "wget http://zhanglab-bioinf.com/GraphCPLMQA/userResult/GCPL.pkl\n",
        "wget https://dl.fbaipublicfiles.com/fair-esm/models/esm_if1_gvp4_t16_142M_UR50.pt\n",
        "wget https://dl.fbaipublicfiles.com/fair-esm/models/esm2_t33_650M_UR50D.pt"
      ],
      "metadata": {
        "id": "HcGrjp-O4IKR"
      },
      "execution_count": null,
      "outputs": []
    },
    {
      "cell_type": "code",
      "source": [
        "%%bash\n",
        "mv /content/GCPL.pkl /content/GraphCPLMQA/QA_Model\n",
        "mv /content/esm_if1_gvp4_t16_142M_UR50.pt /content/GraphCPLMQA/esm-main/esm-pt\n",
        "mv /content/esm2_t33_650M_UR50D.pt /content/GraphCPLMQA/esm-main/esm-pt"
      ],
      "metadata": {
        "id": "1u2trLCxLR3X"
      },
      "execution_count": null,
      "outputs": []
    },
    {
      "cell_type": "code",
      "source": [
        "!source activate GCPL"
      ],
      "metadata": {
        "id": "OTbxgMwRMd7R"
      },
      "execution_count": null,
      "outputs": []
    },
    {
      "cell_type": "code",
      "source": [
        "%%bash\n",
        "cd /content/GraphCPLMQA\n",
        "bash /content/GraphCPLMQA/bin/run_QA.sh /content/GraphCPLMQA/example/pdbs/1a7tA"
      ],
      "metadata": {
        "id": "J_gRPL6zMyJR"
      },
      "execution_count": null,
      "outputs": []
    }
  ]
}